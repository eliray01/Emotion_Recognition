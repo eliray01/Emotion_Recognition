{
 "cells": [
  {
   "cell_type": "code",
   "execution_count": 1,
   "id": "right-gossip",
   "metadata": {},
   "outputs": [],
   "source": [
    "import pandas as pd\n",
    "import numpy as np\n",
    "import re\n",
    "import matplotlib.pyplot as plt\n",
    "import plotly.express as px\n",
    "from tqdm import tqdm\n",
    "\n",
    "import os\n",
    "import pickle\n",
    "import neurokit2 as nk\n",
    "from tqdm import tqdm\n",
    "plt.rcParams[\"figure.figsize\"] = (20,10)"
   ]
  },
  {
   "cell_type": "code",
   "execution_count": 2,
   "id": "soviet-theology",
   "metadata": {},
   "outputs": [],
   "source": [
    "with open('df_sep.pkl', 'rb') as f:\n",
    "    df = pickle.load(f)"
   ]
  },
  {
   "cell_type": "code",
   "execution_count": 41,
   "id": "working-briefing",
   "metadata": {},
   "outputs": [],
   "source": [
    "with open('df.pkl', 'rb') as f:\n",
    "    dff = pickle.load(f)"
   ]
  },
  {
   "cell_type": "code",
   "execution_count": 12,
   "id": "comic-british",
   "metadata": {},
   "outputs": [],
   "source": [
    "def rr_interval(ecg):\n",
    "    \n",
    "    \"\"\"This function takes ECG and returns RR intervals\"\"\"\n",
    "    \n",
    "    ecg_cleaned = nk.ecg_clean(ecg, sampling_rate=250)\n",
    "    rpeaks, info = nk.ecg_peaks(ecg_cleaned, sampling_rate=250, correct_artifacts=True)\n",
    "    time_diff = []\n",
    "    for i in range(len(info['ECG_R_Peaks'])):\n",
    "        if i == len(info['ECG_R_Peaks'])-1:\n",
    "            break\n",
    "        else:\n",
    "            time_diff.append(info['ECG_R_Peaks'][i+1] - info['ECG_R_Peaks'][i])\n",
    "    return time_diff, info"
   ]
  },
  {
   "cell_type": "code",
   "execution_count": 4,
   "id": "illegal-turner",
   "metadata": {},
   "outputs": [],
   "source": [
    "def get_plots(df):\n",
    "    for i in range(len(df)):\n",
    "        ecg = df[\"ECG\"][i]\n",
    "        ecg_cleaned = nk.ecg_clean(ecg, sampling_rate=250)\n",
    "        rpeaks, info = nk.ecg_peaks(ecg_cleaned, sampling_rate=250, correct_artifacts=True)\n",
    "        hrv_features = nk.hrv_time(rpeaks)\n",
    "        mean_baseline = hrv_features['HRV_MeanNN'][0]\n",
    "        print(df['block'][i], 'Mean : ',mean_baseline)\n",
    "        test = rr_interval(df[\"ECG\"][i])\n",
    "        plt.plot(test)\n",
    "        plt.title(df['block'][i])\n",
    "        plt.ylim(100,300)\n",
    "        plt.savefig(\"plots/{}.png\".format(df['block'][i]), dpi = 300)\n",
    "        plt.close()"
   ]
  },
  {
   "cell_type": "code",
   "execution_count": 44,
   "id": "official-poster",
   "metadata": {},
   "outputs": [],
   "source": [
    "df = df.drop('PPG_differential', axis = 1)"
   ]
  },
  {
   "cell_type": "code",
   "execution_count": 57,
   "id": "coastal-slope",
   "metadata": {},
   "outputs": [],
   "source": [
    "names = []\n",
    "for name in df['Name']:\n",
    "    names.append(name[3:8])\n",
    "    \n",
    "unique_names = np.unique(names, axis=0)"
   ]
  },
  {
   "cell_type": "code",
   "execution_count": 60,
   "id": "taken-finnish",
   "metadata": {},
   "outputs": [
    {
     "data": {
      "text/plain": [
       "array(['AlsGA', 'AmrVV', 'AntAA', 'AntEG', 'AntMI', 'AsiDI', 'BabYV',\n",
       "       'BarEA', 'BarSR', 'BurAV', 'ButAS', 'DavAS', 'DoiNA', 'EgoAP',\n",
       "       'ElcRD', 'FedYA', 'GaiMR', 'GalSK', 'GeiEA', 'GibGR', 'GlaNA',\n",
       "       'GulAS', 'IboSN', 'IotMY', 'IvaVV', 'KalEY', 'KirDA', 'KorMN',\n",
       "       'KosPV', 'KozVA', 'KruIA', 'KudDY', 'KulDS', 'KulSS', 'LeoAD',\n",
       "       'LodAV', 'MarOV', 'MarYA', 'MasAV', 'MazAA', 'MilSG', 'MitDG',\n",
       "       'MitVG', 'NekAK', 'NemMS', 'NikAO', 'PavMA', 'PavSO', 'PorGV',\n",
       "       'ProNI', 'RosSM', 'SarMA', 'SidFA', 'SmiYO', 'SneOP', 'SteDI',\n",
       "       'SteKO', 'StePI', 'SteVR', 'StoIA', 'SubAA', 'SyaEG', 'TihYA',\n",
       "       'TimSD', 'TimYE', 'TolDI', 'TroAA', 'TseSA', 'TumNY', 'UskDA',\n",
       "       'UskNA', 'VolAR', 'ZelAS', 'ZolAI'], dtype='<U5')"
      ]
     },
     "execution_count": 60,
     "metadata": {},
     "output_type": "execute_result"
    }
   ],
   "source": [
    "unique_names"
   ]
  },
  {
   "cell_type": "code",
   "execution_count": 65,
   "id": "crazy-midwest",
   "metadata": {},
   "outputs": [
    {
     "data": {
      "text/html": [
       "<div>\n",
       "<style scoped>\n",
       "    .dataframe tbody tr th:only-of-type {\n",
       "        vertical-align: middle;\n",
       "    }\n",
       "\n",
       "    .dataframe tbody tr th {\n",
       "        vertical-align: top;\n",
       "    }\n",
       "\n",
       "    .dataframe thead th {\n",
       "        text-align: right;\n",
       "    }\n",
       "</style>\n",
       "<table border=\"1\" class=\"dataframe\">\n",
       "  <thead>\n",
       "    <tr style=\"text-align: right;\">\n",
       "      <th></th>\n",
       "      <th>Name</th>\n",
       "      <th>block</th>\n",
       "      <th>group</th>\n",
       "      <th>ECG</th>\n",
       "      <th>SGR</th>\n",
       "      <th>PPG</th>\n",
       "      <th>length</th>\n",
       "    </tr>\n",
       "  </thead>\n",
       "  <tbody>\n",
       "    <tr>\n",
       "      <th>0</th>\n",
       "      <td>74_AmrVV_baseline.txt</td>\n",
       "      <td>baseline</td>\n",
       "      <td>Control</td>\n",
       "      <td>[-0.018, -0.01975, -0.02025, -0.01675, -0.017,...</td>\n",
       "      <td>[-0.19989, -0.19989, -0.198364, -0.198364, -0....</td>\n",
       "      <td>[0.974375, 0.95875, 0.941875, 0.924375, 0.9043...</td>\n",
       "      <td>30176</td>\n",
       "    </tr>\n",
       "    <tr>\n",
       "      <th>1</th>\n",
       "      <td>74_AmrVV_block1.txt</td>\n",
       "      <td>block1_level1</td>\n",
       "      <td>Control</td>\n",
       "      <td>[-0.179, -0.17725, -0.18375, -0.18425, -0.1777...</td>\n",
       "      <td>[-0.19989, -0.19989, -0.201416, -0.201416, -0....</td>\n",
       "      <td>[-0.27625, -0.26125, -0.243125, -0.2225, -0.2,...</td>\n",
       "      <td>21281</td>\n",
       "    </tr>\n",
       "    <tr>\n",
       "      <th>2</th>\n",
       "      <td>74_AmrVV_block1.txt</td>\n",
       "      <td>block1_level2</td>\n",
       "      <td>Control</td>\n",
       "      <td>[-0.06925, -0.06725, -0.068, -0.0715, -0.07175...</td>\n",
       "      <td>[-0.254822, -0.253296, -0.253296, -0.25177, -0...</td>\n",
       "      <td>[0.019375, 0.010625, 0.003125, -0.00375, -0.01...</td>\n",
       "      <td>21281</td>\n",
       "    </tr>\n",
       "    <tr>\n",
       "      <th>3</th>\n",
       "      <td>74_AmrVV_block1.txt</td>\n",
       "      <td>block1_level3</td>\n",
       "      <td>Control</td>\n",
       "      <td>[0.05925, 0.0535, 0.041, 0.04625, 0.0565, 0.04...</td>\n",
       "      <td>[-0.268555, -0.268555, -0.267029, -0.265503, -...</td>\n",
       "      <td>[0.125, 0.125, 0.125, 0.124375, 0.124375, 0.12...</td>\n",
       "      <td>21281</td>\n",
       "    </tr>\n",
       "    <tr>\n",
       "      <th>4</th>\n",
       "      <td>74_AmrVV_block1.txt</td>\n",
       "      <td>block1_level4</td>\n",
       "      <td>Control</td>\n",
       "      <td>[0.073, 0.069, 0.0655, 0.07025, 0.0735, 0.072,...</td>\n",
       "      <td>[-0.00152588, -0.00152588, -0.00152588, -0.001...</td>\n",
       "      <td>[-0.526875, -0.521875, -0.5175, -0.51375, -0.5...</td>\n",
       "      <td>21281</td>\n",
       "    </tr>\n",
       "    <tr>\n",
       "      <th>...</th>\n",
       "      <td>...</td>\n",
       "      <td>...</td>\n",
       "      <td>...</td>\n",
       "      <td>...</td>\n",
       "      <td>...</td>\n",
       "      <td>...</td>\n",
       "      <td>...</td>\n",
       "    </tr>\n",
       "    <tr>\n",
       "      <th>1481</th>\n",
       "      <td>73_AntEG_block3.txt</td>\n",
       "      <td>block3_level3</td>\n",
       "      <td>Wrong_feedback</td>\n",
       "      <td>[-0.01875, -0.00575, -0.0125, -0.03425, -0.033...</td>\n",
       "      <td>[0.175476, 0.175476, 0.177002, 0.177002, 0.177...</td>\n",
       "      <td>[0.17125, 0.16375, 0.15625, 0.149375, 0.14375,...</td>\n",
       "      <td>17659</td>\n",
       "    </tr>\n",
       "    <tr>\n",
       "      <th>1482</th>\n",
       "      <td>73_AntEG_block3.txt</td>\n",
       "      <td>block3_level4</td>\n",
       "      <td>Wrong_feedback</td>\n",
       "      <td>[-0.03225, -0.031, -0.0395, -0.049, -0.04575, ...</td>\n",
       "      <td>[-0.492859, -0.494385, -0.495911, -0.498962, -...</td>\n",
       "      <td>[0.495625, 0.503125, 0.51, 0.51625, 0.5225, 0....</td>\n",
       "      <td>17659</td>\n",
       "    </tr>\n",
       "    <tr>\n",
       "      <th>1483</th>\n",
       "      <td>73_AntEG_block3.txt</td>\n",
       "      <td>block3_level5</td>\n",
       "      <td>Wrong_feedback</td>\n",
       "      <td>[-0.0405, -0.05125, -0.06775, -0.068, -0.04625...</td>\n",
       "      <td>[-1.22223, -1.22528, -1.22833, -1.22986, -1.23...</td>\n",
       "      <td>[1.23125, 1.22813, 1.22438, 1.22, 1.215, 1.209...</td>\n",
       "      <td>17659</td>\n",
       "    </tr>\n",
       "    <tr>\n",
       "      <th>1484</th>\n",
       "      <td>73_AntEG_block3.txt</td>\n",
       "      <td>block3_level6</td>\n",
       "      <td>Wrong_feedback</td>\n",
       "      <td>[-0.05475, -0.069, -0.07225, -0.082, -0.09075,...</td>\n",
       "      <td>[-1.64032, -1.6449, -1.64948, -1.65405, -1.658...</td>\n",
       "      <td>[-0.59375, -0.605625, -0.616875, -0.6275, -0.6...</td>\n",
       "      <td>17659</td>\n",
       "    </tr>\n",
       "    <tr>\n",
       "      <th>1485</th>\n",
       "      <td>73_AntEG_training.txt</td>\n",
       "      <td>training</td>\n",
       "      <td>Wrong_feedback</td>\n",
       "      <td>[-0.01425, -0.0195, -0.0135, -0.03025, -0.05, ...</td>\n",
       "      <td>[2.88391, 2.92206, 2.96021, 2.99835, 3.03497, ...</td>\n",
       "      <td>[-0.76, -0.77, -0.78125, -0.7925, -0.804375, -...</td>\n",
       "      <td>22083</td>\n",
       "    </tr>\n",
       "  </tbody>\n",
       "</table>\n",
       "<p>1438 rows × 7 columns</p>\n",
       "</div>"
      ],
      "text/plain": [
       "                       Name          block           group  \\\n",
       "0     74_AmrVV_baseline.txt       baseline         Control   \n",
       "1       74_AmrVV_block1.txt  block1_level1         Control   \n",
       "2       74_AmrVV_block1.txt  block1_level2         Control   \n",
       "3       74_AmrVV_block1.txt  block1_level3         Control   \n",
       "4       74_AmrVV_block1.txt  block1_level4         Control   \n",
       "...                     ...            ...             ...   \n",
       "1481    73_AntEG_block3.txt  block3_level3  Wrong_feedback   \n",
       "1482    73_AntEG_block3.txt  block3_level4  Wrong_feedback   \n",
       "1483    73_AntEG_block3.txt  block3_level5  Wrong_feedback   \n",
       "1484    73_AntEG_block3.txt  block3_level6  Wrong_feedback   \n",
       "1485  73_AntEG_training.txt       training  Wrong_feedback   \n",
       "\n",
       "                                                    ECG  \\\n",
       "0     [-0.018, -0.01975, -0.02025, -0.01675, -0.017,...   \n",
       "1     [-0.179, -0.17725, -0.18375, -0.18425, -0.1777...   \n",
       "2     [-0.06925, -0.06725, -0.068, -0.0715, -0.07175...   \n",
       "3     [0.05925, 0.0535, 0.041, 0.04625, 0.0565, 0.04...   \n",
       "4     [0.073, 0.069, 0.0655, 0.07025, 0.0735, 0.072,...   \n",
       "...                                                 ...   \n",
       "1481  [-0.01875, -0.00575, -0.0125, -0.03425, -0.033...   \n",
       "1482  [-0.03225, -0.031, -0.0395, -0.049, -0.04575, ...   \n",
       "1483  [-0.0405, -0.05125, -0.06775, -0.068, -0.04625...   \n",
       "1484  [-0.05475, -0.069, -0.07225, -0.082, -0.09075,...   \n",
       "1485  [-0.01425, -0.0195, -0.0135, -0.03025, -0.05, ...   \n",
       "\n",
       "                                                    SGR  \\\n",
       "0     [-0.19989, -0.19989, -0.198364, -0.198364, -0....   \n",
       "1     [-0.19989, -0.19989, -0.201416, -0.201416, -0....   \n",
       "2     [-0.254822, -0.253296, -0.253296, -0.25177, -0...   \n",
       "3     [-0.268555, -0.268555, -0.267029, -0.265503, -...   \n",
       "4     [-0.00152588, -0.00152588, -0.00152588, -0.001...   \n",
       "...                                                 ...   \n",
       "1481  [0.175476, 0.175476, 0.177002, 0.177002, 0.177...   \n",
       "1482  [-0.492859, -0.494385, -0.495911, -0.498962, -...   \n",
       "1483  [-1.22223, -1.22528, -1.22833, -1.22986, -1.23...   \n",
       "1484  [-1.64032, -1.6449, -1.64948, -1.65405, -1.658...   \n",
       "1485  [2.88391, 2.92206, 2.96021, 2.99835, 3.03497, ...   \n",
       "\n",
       "                                                    PPG length  \n",
       "0     [0.974375, 0.95875, 0.941875, 0.924375, 0.9043...  30176  \n",
       "1     [-0.27625, -0.26125, -0.243125, -0.2225, -0.2,...  21281  \n",
       "2     [0.019375, 0.010625, 0.003125, -0.00375, -0.01...  21281  \n",
       "3     [0.125, 0.125, 0.125, 0.124375, 0.124375, 0.12...  21281  \n",
       "4     [-0.526875, -0.521875, -0.5175, -0.51375, -0.5...  21281  \n",
       "...                                                 ...    ...  \n",
       "1481  [0.17125, 0.16375, 0.15625, 0.149375, 0.14375,...  17659  \n",
       "1482  [0.495625, 0.503125, 0.51, 0.51625, 0.5225, 0....  17659  \n",
       "1483  [1.23125, 1.22813, 1.22438, 1.22, 1.215, 1.209...  17659  \n",
       "1484  [-0.59375, -0.605625, -0.616875, -0.6275, -0.6...  17659  \n",
       "1485  [-0.76, -0.77, -0.78125, -0.7925, -0.804375, -...  22083  \n",
       "\n",
       "[1438 rows x 7 columns]"
      ]
     },
     "execution_count": 65,
     "metadata": {},
     "output_type": "execute_result"
    }
   ],
   "source": [
    "df"
   ]
  },
  {
   "cell_type": "code",
   "execution_count": 61,
   "id": "religious-appendix",
   "metadata": {},
   "outputs": [],
   "source": [
    "def divide_chunks(l, n):\n",
    "     \n",
    "    # looping till length l\n",
    "    for i in range(0, len(l), n):\n",
    "        yield l[i:i + n]"
   ]
  },
  {
   "cell_type": "code",
   "execution_count": 74,
   "id": "identified-redhead",
   "metadata": {},
   "outputs": [],
   "source": [
    "def separate_for_seconds(df, ticks):\n",
    "    new_df = pd.DataFrame(columns = df.columns)\n",
    "    \n",
    "    for i in range(len(df)):\n",
    "        if df['block'][i] == 'baseline':\n",
    "            row = {'Name' : df['Name'][i],\n",
    "                   'block' : df['block'][i],\n",
    "                   'group' : df['group'][i],\n",
    "                   'ECG' : df['ECG'][i],\n",
    "                   'SGR' : df['SGR'][i],\n",
    "                   'PPG' : df['PPG'][i],\n",
    "                   'length' : df['length'][i]}\n",
    "            new_df = new_df.append(row, ignore_index = True)\n",
    "        else:\n",
    "            ECG_batches = list(divide_chunks(df['ECG'][i],ticks))\n",
    "            SGR_batches = list(divide_chunks(df['SGR'][i],ticks))\n",
    "            PPG_batches = list(divide_chunks(df['PPG'][i],ticks))\n",
    "            \n",
    "            ECG_batches = [x for x in ECG_batches if len(x) >= 250]\n",
    "            SGR_batches = [x for x in SGR_batches if len(x) >= 250]\n",
    "            PPG_batches = [x for x in PPG_batches if len(x) >= 250]\n",
    "            \n",
    "            k = 0 #batch number\n",
    "            \n",
    "            for ecg_batch, sgr_batch, ppg_batch in zip(ECG_batches, SGR_batches, PPG_batches):\n",
    "                row = {'Name' : df['Name'][i],\n",
    "                   'block' : '{}_batch{}'.format(df['block'][i],k),\n",
    "                   'group' : df['group'][i],\n",
    "                   'ECG' : ecg_batch,\n",
    "                   'SGR' : sgr_batch,\n",
    "                   'PPG' : ppg_batch,\n",
    "                   'length' : len(ecg_batch)}\n",
    "                new_df = new_df.append(row, ignore_index = True)\n",
    "                k+=1\n",
    "    return new_df\n",
    "            \n",
    "            \n",
    "            "
   ]
  },
  {
   "cell_type": "code",
   "execution_count": 82,
   "id": "proprietary-adolescent",
   "metadata": {},
   "outputs": [],
   "source": [
    "def separate(df,unique_names):\n",
    "    output = pd.DataFrame()\n",
    "    for name in unique_names:\n",
    "        tmp = df[df['Name'].str.contains(name)]\n",
    "        tmp = tmp.reset_index(drop = True)\n",
    "        tmp_out = separate_for_seconds(tmp,1250)\n",
    "        output = output.append(tmp_out, ignore_index = True)\n",
    "    return output "
   ]
  },
  {
   "cell_type": "code",
   "execution_count": 83,
   "id": "corporate-volunteer",
   "metadata": {},
   "outputs": [],
   "source": [
    "df_new = separate(df,unique_names)"
   ]
  },
  {
   "cell_type": "code",
   "execution_count": 88,
   "id": "ancient-performer",
   "metadata": {},
   "outputs": [
    {
     "data": {
      "text/html": [
       "<div>\n",
       "<style scoped>\n",
       "    .dataframe tbody tr th:only-of-type {\n",
       "        vertical-align: middle;\n",
       "    }\n",
       "\n",
       "    .dataframe tbody tr th {\n",
       "        vertical-align: top;\n",
       "    }\n",
       "\n",
       "    .dataframe thead th {\n",
       "        text-align: right;\n",
       "    }\n",
       "</style>\n",
       "<table border=\"1\" class=\"dataframe\">\n",
       "  <thead>\n",
       "    <tr style=\"text-align: right;\">\n",
       "      <th></th>\n",
       "      <th>Name</th>\n",
       "      <th>block</th>\n",
       "      <th>group</th>\n",
       "      <th>ECG</th>\n",
       "      <th>SGR</th>\n",
       "      <th>PPG</th>\n",
       "      <th>length</th>\n",
       "    </tr>\n",
       "  </thead>\n",
       "  <tbody>\n",
       "    <tr>\n",
       "      <th>0</th>\n",
       "      <td>12_AlsGA_baseline.txt</td>\n",
       "      <td>baseline</td>\n",
       "      <td>Wrong_feedback</td>\n",
       "      <td>[-0.0785, -0.069, -0.05225, -0.04825, -0.0565,...</td>\n",
       "      <td>[0.605774, 0.610352, 0.614929, 0.621033, 0.625...</td>\n",
       "      <td>[2.6225, 2.55125, 2.47812, 2.40437, 2.33, 2.25...</td>\n",
       "      <td>30235</td>\n",
       "    </tr>\n",
       "    <tr>\n",
       "      <th>1</th>\n",
       "      <td>12_AlsGA_block1.txt</td>\n",
       "      <td>block1_level1_batch0</td>\n",
       "      <td>Wrong_feedback</td>\n",
       "      <td>[-0.05625, -0.064, -0.049, -0.041, -0.0535, -0...</td>\n",
       "      <td>[1.46942, 1.48773, 1.50604, 1.52435, 1.54114, ...</td>\n",
       "      <td>[1.805, 1.76188, 1.71875, 1.67563, 1.63188, 1....</td>\n",
       "      <td>1250</td>\n",
       "    </tr>\n",
       "    <tr>\n",
       "      <th>2</th>\n",
       "      <td>12_AlsGA_block1.txt</td>\n",
       "      <td>block1_level1_batch1</td>\n",
       "      <td>Wrong_feedback</td>\n",
       "      <td>[-0.05225, -0.049, -0.0445, -0.04325, -0.0455,...</td>\n",
       "      <td>[4.1626, 4.19159, 4.21906, 4.24652, 4.27399, 4...</td>\n",
       "      <td>[1.91625, 1.86313, 1.81, 1.75688, 1.70375, 1.6...</td>\n",
       "      <td>1250</td>\n",
       "    </tr>\n",
       "    <tr>\n",
       "      <th>3</th>\n",
       "      <td>12_AlsGA_block1.txt</td>\n",
       "      <td>block1_level1_batch2</td>\n",
       "      <td>Wrong_feedback</td>\n",
       "      <td>[-0.06425, -0.067, -0.0595, -0.048, -0.04025, ...</td>\n",
       "      <td>[-0.0778198, -0.0808716, -0.0839233, -0.085449...</td>\n",
       "      <td>[0.89125, 0.876875, 0.86375, 0.853125, 0.84562...</td>\n",
       "      <td>1250</td>\n",
       "    </tr>\n",
       "    <tr>\n",
       "      <th>4</th>\n",
       "      <td>12_AlsGA_block1.txt</td>\n",
       "      <td>block1_level1_batch3</td>\n",
       "      <td>Wrong_feedback</td>\n",
       "      <td>[-0.02475, -0.0375, -0.03275, -0.02725, -0.037...</td>\n",
       "      <td>[-0.552368, -0.553894, -0.556946, -0.559998, -...</td>\n",
       "      <td>[0.666875, 0.661875, 0.6575, 0.653125, 0.64937...</td>\n",
       "      <td>1250</td>\n",
       "    </tr>\n",
       "    <tr>\n",
       "      <th>...</th>\n",
       "      <td>...</td>\n",
       "      <td>...</td>\n",
       "      <td>...</td>\n",
       "      <td>...</td>\n",
       "      <td>...</td>\n",
       "      <td>...</td>\n",
       "      <td>...</td>\n",
       "    </tr>\n",
       "    <tr>\n",
       "      <th>21552</th>\n",
       "      <td>59_ZolAI_training.txt</td>\n",
       "      <td>training_batch14</td>\n",
       "      <td>Wrong_feedback</td>\n",
       "      <td>[-0.08975, -0.106, -0.11325, -0.09675, -0.074,...</td>\n",
       "      <td>[0.675964, 0.665283, 0.656128, 0.646973, 0.636...</td>\n",
       "      <td>[-0.508125, -0.5125, -0.5175, -0.52125, -0.524...</td>\n",
       "      <td>1250</td>\n",
       "    </tr>\n",
       "    <tr>\n",
       "      <th>21553</th>\n",
       "      <td>59_ZolAI_training.txt</td>\n",
       "      <td>training_batch15</td>\n",
       "      <td>Wrong_feedback</td>\n",
       "      <td>[-0.0275, -0.00925, -0.0165, -0.02125, -0.0157...</td>\n",
       "      <td>[-0.790405, -0.782776, -0.775146, -0.765991, -...</td>\n",
       "      <td>[0.39375, 0.388125, 0.38125, 0.374375, 0.3675,...</td>\n",
       "      <td>1250</td>\n",
       "    </tr>\n",
       "    <tr>\n",
       "      <th>21554</th>\n",
       "      <td>59_ZolAI_training.txt</td>\n",
       "      <td>training_batch16</td>\n",
       "      <td>Wrong_feedback</td>\n",
       "      <td>[0.0345, 0.04575, 0.08625, 0.08125, 0.055, 0.0...</td>\n",
       "      <td>[1.7746, 1.78528, 1.79443, 1.80511, 1.8158, 1....</td>\n",
       "      <td>[-0.3675, -0.37625, -0.384375, -0.39125, -0.39...</td>\n",
       "      <td>1250</td>\n",
       "    </tr>\n",
       "    <tr>\n",
       "      <th>21555</th>\n",
       "      <td>59_ZolAI_training.txt</td>\n",
       "      <td>training_batch17</td>\n",
       "      <td>Wrong_feedback</td>\n",
       "      <td>[-0.01725, -0.035, -0.07475, -0.08825, -0.0695...</td>\n",
       "      <td>[0.67749, 0.665283, 0.654602, 0.642395, 0.6317...</td>\n",
       "      <td>[0.138125, 0.1675, 0.19375, 0.2175, 0.23875, 0...</td>\n",
       "      <td>1250</td>\n",
       "    </tr>\n",
       "    <tr>\n",
       "      <th>21556</th>\n",
       "      <td>59_ZolAI_training.txt</td>\n",
       "      <td>training_batch18</td>\n",
       "      <td>Wrong_feedback</td>\n",
       "      <td>[0.1995, 0.20575, 0.2385, 0.2765, 0.26625, 0.2...</td>\n",
       "      <td>[-1.26801, -1.27411, -1.28021, -1.28632, -1.29...</td>\n",
       "      <td>[-0.821875, -0.809375, -0.794375, -0.77625, -0...</td>\n",
       "      <td>1250</td>\n",
       "    </tr>\n",
       "  </tbody>\n",
       "</table>\n",
       "<p>21557 rows × 7 columns</p>\n",
       "</div>"
      ],
      "text/plain": [
       "                        Name                 block           group  \\\n",
       "0      12_AlsGA_baseline.txt              baseline  Wrong_feedback   \n",
       "1        12_AlsGA_block1.txt  block1_level1_batch0  Wrong_feedback   \n",
       "2        12_AlsGA_block1.txt  block1_level1_batch1  Wrong_feedback   \n",
       "3        12_AlsGA_block1.txt  block1_level1_batch2  Wrong_feedback   \n",
       "4        12_AlsGA_block1.txt  block1_level1_batch3  Wrong_feedback   \n",
       "...                      ...                   ...             ...   \n",
       "21552  59_ZolAI_training.txt      training_batch14  Wrong_feedback   \n",
       "21553  59_ZolAI_training.txt      training_batch15  Wrong_feedback   \n",
       "21554  59_ZolAI_training.txt      training_batch16  Wrong_feedback   \n",
       "21555  59_ZolAI_training.txt      training_batch17  Wrong_feedback   \n",
       "21556  59_ZolAI_training.txt      training_batch18  Wrong_feedback   \n",
       "\n",
       "                                                     ECG  \\\n",
       "0      [-0.0785, -0.069, -0.05225, -0.04825, -0.0565,...   \n",
       "1      [-0.05625, -0.064, -0.049, -0.041, -0.0535, -0...   \n",
       "2      [-0.05225, -0.049, -0.0445, -0.04325, -0.0455,...   \n",
       "3      [-0.06425, -0.067, -0.0595, -0.048, -0.04025, ...   \n",
       "4      [-0.02475, -0.0375, -0.03275, -0.02725, -0.037...   \n",
       "...                                                  ...   \n",
       "21552  [-0.08975, -0.106, -0.11325, -0.09675, -0.074,...   \n",
       "21553  [-0.0275, -0.00925, -0.0165, -0.02125, -0.0157...   \n",
       "21554  [0.0345, 0.04575, 0.08625, 0.08125, 0.055, 0.0...   \n",
       "21555  [-0.01725, -0.035, -0.07475, -0.08825, -0.0695...   \n",
       "21556  [0.1995, 0.20575, 0.2385, 0.2765, 0.26625, 0.2...   \n",
       "\n",
       "                                                     SGR  \\\n",
       "0      [0.605774, 0.610352, 0.614929, 0.621033, 0.625...   \n",
       "1      [1.46942, 1.48773, 1.50604, 1.52435, 1.54114, ...   \n",
       "2      [4.1626, 4.19159, 4.21906, 4.24652, 4.27399, 4...   \n",
       "3      [-0.0778198, -0.0808716, -0.0839233, -0.085449...   \n",
       "4      [-0.552368, -0.553894, -0.556946, -0.559998, -...   \n",
       "...                                                  ...   \n",
       "21552  [0.675964, 0.665283, 0.656128, 0.646973, 0.636...   \n",
       "21553  [-0.790405, -0.782776, -0.775146, -0.765991, -...   \n",
       "21554  [1.7746, 1.78528, 1.79443, 1.80511, 1.8158, 1....   \n",
       "21555  [0.67749, 0.665283, 0.654602, 0.642395, 0.6317...   \n",
       "21556  [-1.26801, -1.27411, -1.28021, -1.28632, -1.29...   \n",
       "\n",
       "                                                     PPG length  \n",
       "0      [2.6225, 2.55125, 2.47812, 2.40437, 2.33, 2.25...  30235  \n",
       "1      [1.805, 1.76188, 1.71875, 1.67563, 1.63188, 1....   1250  \n",
       "2      [1.91625, 1.86313, 1.81, 1.75688, 1.70375, 1.6...   1250  \n",
       "3      [0.89125, 0.876875, 0.86375, 0.853125, 0.84562...   1250  \n",
       "4      [0.666875, 0.661875, 0.6575, 0.653125, 0.64937...   1250  \n",
       "...                                                  ...    ...  \n",
       "21552  [-0.508125, -0.5125, -0.5175, -0.52125, -0.524...   1250  \n",
       "21553  [0.39375, 0.388125, 0.38125, 0.374375, 0.3675,...   1250  \n",
       "21554  [-0.3675, -0.37625, -0.384375, -0.39125, -0.39...   1250  \n",
       "21555  [0.138125, 0.1675, 0.19375, 0.2175, 0.23875, 0...   1250  \n",
       "21556  [-0.821875, -0.809375, -0.794375, -0.77625, -0...   1250  \n",
       "\n",
       "[21557 rows x 7 columns]"
      ]
     },
     "execution_count": 88,
     "metadata": {},
     "output_type": "execute_result"
    }
   ],
   "source": [
    "df_new"
   ]
  },
  {
   "cell_type": "code",
   "execution_count": 90,
   "id": "smart-apparatus",
   "metadata": {},
   "outputs": [
    {
     "data": {
      "text/html": [
       "<div>\n",
       "<style scoped>\n",
       "    .dataframe tbody tr th:only-of-type {\n",
       "        vertical-align: middle;\n",
       "    }\n",
       "\n",
       "    .dataframe tbody tr th {\n",
       "        vertical-align: top;\n",
       "    }\n",
       "\n",
       "    .dataframe thead th {\n",
       "        text-align: right;\n",
       "    }\n",
       "</style>\n",
       "<table border=\"1\" class=\"dataframe\">\n",
       "  <thead>\n",
       "    <tr style=\"text-align: right;\">\n",
       "      <th></th>\n",
       "      <th>Name</th>\n",
       "      <th>block</th>\n",
       "      <th>group</th>\n",
       "      <th>ECG</th>\n",
       "      <th>SGR</th>\n",
       "      <th>PPG</th>\n",
       "      <th>length</th>\n",
       "    </tr>\n",
       "  </thead>\n",
       "  <tbody>\n",
       "    <tr>\n",
       "      <th>0</th>\n",
       "      <td>12_AlsGA_baseline.txt</td>\n",
       "      <td>baseline</td>\n",
       "      <td>Wrong_feedback</td>\n",
       "      <td>[-0.0785, -0.069, -0.05225, -0.04825, -0.0565,...</td>\n",
       "      <td>[0.605774, 0.610352, 0.614929, 0.621033, 0.625...</td>\n",
       "      <td>[2.6225, 2.55125, 2.47812, 2.40437, 2.33, 2.25...</td>\n",
       "      <td>30235</td>\n",
       "    </tr>\n",
       "    <tr>\n",
       "      <th>1</th>\n",
       "      <td>12_AlsGA_block1.txt</td>\n",
       "      <td>block1_level1_batch0</td>\n",
       "      <td>Wrong_feedback</td>\n",
       "      <td>[-0.05625, -0.064, -0.049, -0.041, -0.0535, -0...</td>\n",
       "      <td>[1.46942, 1.48773, 1.50604, 1.52435, 1.54114, ...</td>\n",
       "      <td>[1.805, 1.76188, 1.71875, 1.67563, 1.63188, 1....</td>\n",
       "      <td>1250</td>\n",
       "    </tr>\n",
       "    <tr>\n",
       "      <th>2</th>\n",
       "      <td>12_AlsGA_block1.txt</td>\n",
       "      <td>block1_level1_batch1</td>\n",
       "      <td>Wrong_feedback</td>\n",
       "      <td>[-0.05225, -0.049, -0.0445, -0.04325, -0.0455,...</td>\n",
       "      <td>[4.1626, 4.19159, 4.21906, 4.24652, 4.27399, 4...</td>\n",
       "      <td>[1.91625, 1.86313, 1.81, 1.75688, 1.70375, 1.6...</td>\n",
       "      <td>1250</td>\n",
       "    </tr>\n",
       "    <tr>\n",
       "      <th>3</th>\n",
       "      <td>12_AlsGA_block1.txt</td>\n",
       "      <td>block1_level1_batch2</td>\n",
       "      <td>Wrong_feedback</td>\n",
       "      <td>[-0.06425, -0.067, -0.0595, -0.048, -0.04025, ...</td>\n",
       "      <td>[-0.0778198, -0.0808716, -0.0839233, -0.085449...</td>\n",
       "      <td>[0.89125, 0.876875, 0.86375, 0.853125, 0.84562...</td>\n",
       "      <td>1250</td>\n",
       "    </tr>\n",
       "    <tr>\n",
       "      <th>4</th>\n",
       "      <td>12_AlsGA_block1.txt</td>\n",
       "      <td>block1_level1_batch3</td>\n",
       "      <td>Wrong_feedback</td>\n",
       "      <td>[-0.02475, -0.0375, -0.03275, -0.02725, -0.037...</td>\n",
       "      <td>[-0.552368, -0.553894, -0.556946, -0.559998, -...</td>\n",
       "      <td>[0.666875, 0.661875, 0.6575, 0.653125, 0.64937...</td>\n",
       "      <td>1250</td>\n",
       "    </tr>\n",
       "    <tr>\n",
       "      <th>...</th>\n",
       "      <td>...</td>\n",
       "      <td>...</td>\n",
       "      <td>...</td>\n",
       "      <td>...</td>\n",
       "      <td>...</td>\n",
       "      <td>...</td>\n",
       "      <td>...</td>\n",
       "    </tr>\n",
       "    <tr>\n",
       "      <th>297</th>\n",
       "      <td>12_AlsGA_training.txt</td>\n",
       "      <td>training_batch14</td>\n",
       "      <td>Wrong_feedback</td>\n",
       "      <td>[-0.0485, -0.04775, -0.0555, -0.047, -0.0375, ...</td>\n",
       "      <td>[0.444031, 0.439453, 0.434875, 0.430298, 0.425...</td>\n",
       "      <td>[1.765, 1.70188, 1.63875, 1.575, 1.51125, 1.44...</td>\n",
       "      <td>1250</td>\n",
       "    </tr>\n",
       "    <tr>\n",
       "      <th>298</th>\n",
       "      <td>12_AlsGA_training.txt</td>\n",
       "      <td>training_batch15</td>\n",
       "      <td>Wrong_feedback</td>\n",
       "      <td>[0.02275, 0.025, 0.01525, 0.0005, 0.00325, 0.0...</td>\n",
       "      <td>[-0.662231, -0.663757, -0.666809, -0.668335, -...</td>\n",
       "      <td>[-0.096875, -0.140625, -0.184375, -0.226875, -...</td>\n",
       "      <td>1250</td>\n",
       "    </tr>\n",
       "    <tr>\n",
       "      <th>299</th>\n",
       "      <td>12_AlsGA_training.txt</td>\n",
       "      <td>training_batch16</td>\n",
       "      <td>Wrong_feedback</td>\n",
       "      <td>[0.121, 0.1335, 0.149, 0.165, 0.1675, 0.153, 0...</td>\n",
       "      <td>[0.369263, 0.369263, 0.370789, 0.370789, 0.370...</td>\n",
       "      <td>[-1.96438, -1.97687, -1.98563, -1.99, -1.98687...</td>\n",
       "      <td>1250</td>\n",
       "    </tr>\n",
       "    <tr>\n",
       "      <th>300</th>\n",
       "      <td>12_AlsGA_training.txt</td>\n",
       "      <td>training_batch17</td>\n",
       "      <td>Wrong_feedback</td>\n",
       "      <td>[-0.00875, 0.00025, -0.02025, -0.03, -0.01375,...</td>\n",
       "      <td>[1.04523, 1.06812, 1.091, 1.11389, 1.13678, 1....</td>\n",
       "      <td>[0.589375, 0.5925, 0.595625, 0.598125, 0.59937...</td>\n",
       "      <td>1250</td>\n",
       "    </tr>\n",
       "    <tr>\n",
       "      <th>301</th>\n",
       "      <td>12_AlsGA_training.txt</td>\n",
       "      <td>training_batch18</td>\n",
       "      <td>Wrong_feedback</td>\n",
       "      <td>[0.246, 0.30275, 0.28225, 0.218, 0.15425, 0.07...</td>\n",
       "      <td>[-1.05133, -1.05133, -1.0498, -1.0498, -1.0482...</td>\n",
       "      <td>[-1.86187, -1.86688, -1.87125, -1.87563, -1.88...</td>\n",
       "      <td>1250</td>\n",
       "    </tr>\n",
       "  </tbody>\n",
       "</table>\n",
       "<p>302 rows × 7 columns</p>\n",
       "</div>"
      ],
      "text/plain": [
       "                      Name                 block           group  \\\n",
       "0    12_AlsGA_baseline.txt              baseline  Wrong_feedback   \n",
       "1      12_AlsGA_block1.txt  block1_level1_batch0  Wrong_feedback   \n",
       "2      12_AlsGA_block1.txt  block1_level1_batch1  Wrong_feedback   \n",
       "3      12_AlsGA_block1.txt  block1_level1_batch2  Wrong_feedback   \n",
       "4      12_AlsGA_block1.txt  block1_level1_batch3  Wrong_feedback   \n",
       "..                     ...                   ...             ...   \n",
       "297  12_AlsGA_training.txt      training_batch14  Wrong_feedback   \n",
       "298  12_AlsGA_training.txt      training_batch15  Wrong_feedback   \n",
       "299  12_AlsGA_training.txt      training_batch16  Wrong_feedback   \n",
       "300  12_AlsGA_training.txt      training_batch17  Wrong_feedback   \n",
       "301  12_AlsGA_training.txt      training_batch18  Wrong_feedback   \n",
       "\n",
       "                                                   ECG  \\\n",
       "0    [-0.0785, -0.069, -0.05225, -0.04825, -0.0565,...   \n",
       "1    [-0.05625, -0.064, -0.049, -0.041, -0.0535, -0...   \n",
       "2    [-0.05225, -0.049, -0.0445, -0.04325, -0.0455,...   \n",
       "3    [-0.06425, -0.067, -0.0595, -0.048, -0.04025, ...   \n",
       "4    [-0.02475, -0.0375, -0.03275, -0.02725, -0.037...   \n",
       "..                                                 ...   \n",
       "297  [-0.0485, -0.04775, -0.0555, -0.047, -0.0375, ...   \n",
       "298  [0.02275, 0.025, 0.01525, 0.0005, 0.00325, 0.0...   \n",
       "299  [0.121, 0.1335, 0.149, 0.165, 0.1675, 0.153, 0...   \n",
       "300  [-0.00875, 0.00025, -0.02025, -0.03, -0.01375,...   \n",
       "301  [0.246, 0.30275, 0.28225, 0.218, 0.15425, 0.07...   \n",
       "\n",
       "                                                   SGR  \\\n",
       "0    [0.605774, 0.610352, 0.614929, 0.621033, 0.625...   \n",
       "1    [1.46942, 1.48773, 1.50604, 1.52435, 1.54114, ...   \n",
       "2    [4.1626, 4.19159, 4.21906, 4.24652, 4.27399, 4...   \n",
       "3    [-0.0778198, -0.0808716, -0.0839233, -0.085449...   \n",
       "4    [-0.552368, -0.553894, -0.556946, -0.559998, -...   \n",
       "..                                                 ...   \n",
       "297  [0.444031, 0.439453, 0.434875, 0.430298, 0.425...   \n",
       "298  [-0.662231, -0.663757, -0.666809, -0.668335, -...   \n",
       "299  [0.369263, 0.369263, 0.370789, 0.370789, 0.370...   \n",
       "300  [1.04523, 1.06812, 1.091, 1.11389, 1.13678, 1....   \n",
       "301  [-1.05133, -1.05133, -1.0498, -1.0498, -1.0482...   \n",
       "\n",
       "                                                   PPG length  \n",
       "0    [2.6225, 2.55125, 2.47812, 2.40437, 2.33, 2.25...  30235  \n",
       "1    [1.805, 1.76188, 1.71875, 1.67563, 1.63188, 1....   1250  \n",
       "2    [1.91625, 1.86313, 1.81, 1.75688, 1.70375, 1.6...   1250  \n",
       "3    [0.89125, 0.876875, 0.86375, 0.853125, 0.84562...   1250  \n",
       "4    [0.666875, 0.661875, 0.6575, 0.653125, 0.64937...   1250  \n",
       "..                                                 ...    ...  \n",
       "297  [1.765, 1.70188, 1.63875, 1.575, 1.51125, 1.44...   1250  \n",
       "298  [-0.096875, -0.140625, -0.184375, -0.226875, -...   1250  \n",
       "299  [-1.96438, -1.97687, -1.98563, -1.99, -1.98687...   1250  \n",
       "300  [0.589375, 0.5925, 0.595625, 0.598125, 0.59937...   1250  \n",
       "301  [-1.86187, -1.86688, -1.87125, -1.87563, -1.88...   1250  \n",
       "\n",
       "[302 rows x 7 columns]"
      ]
     },
     "execution_count": 90,
     "metadata": {},
     "output_type": "execute_result"
    }
   ],
   "source": [
    "df_new[df_new['Name'].str.contains('AlsGA')]"
   ]
  },
  {
   "cell_type": "code",
   "execution_count": null,
   "id": "respiratory-amount",
   "metadata": {},
   "outputs": [],
   "source": []
  },
  {
   "cell_type": "code",
   "execution_count": null,
   "id": "accomplished-couple",
   "metadata": {},
   "outputs": [],
   "source": [
    "def med_feature_extraction(df, unique_names):\n",
    "    output = pd.DataFrame(columns = ['HRV', 'HR', 'AMP_pwave', 'SGR',])\n",
    "    for name in unique_names:\n",
    "        tmp = df[df['Name'].str.contains(name)]\n",
    "        tmp = tmp.reset_index(drop = True)\n",
    "        \n",
    "        "
   ]
  },
  {
   "cell_type": "code",
   "execution_count": 91,
   "id": "oriental-protocol",
   "metadata": {},
   "outputs": [
    {
     "data": {
      "text/plain": [
       "[<matplotlib.lines.Line2D at 0x18324189cd0>]"
      ]
     },
     "execution_count": 91,
     "metadata": {},
     "output_type": "execute_result"
    },
    {
     "data": {
      "image/png": "[encoded data removed]",
      "text/plain": [
       "<Figure size 1440x720 with 1 Axes>"
      ]
     },
     "metadata": {
      "needs_background": "light"
     },
     "output_type": "display_data"
    }
   ],
   "source": [
    "plt.plot(df_new['PPG'][1])"
   ]
  },
  {
   "cell_type": "code",
   "execution_count": 102,
   "id": "immediate-world",
   "metadata": {},
   "outputs": [],
   "source": [
    "signals, info = nk.ppg_process(df_new['PPG'][0], sampling_rate=250)"
   ]
  },
  {
   "cell_type": "code",
   "execution_count": 99,
   "id": "behavioral-lotus",
   "metadata": {},
   "outputs": [
    {
     "data": {
      "text/plain": [
       "{'PPG_Peaks': array([230, 474, 719, 985]), 'sampling_rate': 250}"
      ]
     },
     "execution_count": 99,
     "metadata": {},
     "output_type": "execute_result"
    }
   ],
   "source": [
    "info"
   ]
  },
  {
   "cell_type": "code",
   "execution_count": 104,
   "id": "sweet-murray",
   "metadata": {},
   "outputs": [],
   "source": [
    "test = []\n",
    "for i in range(len(info['PPG_Peaks'])):\n",
    "    if i == len(info['PPG_Peaks'])-1:\n",
    "        break\n",
    "    else:\n",
    "        test.append(info['PPG_Peaks'][i+1] - info['PPG_Peaks'][i])"
   ]
  },
  {
   "cell_type": "code",
   "execution_count": 105,
   "id": "professional-functionality",
   "metadata": {},
   "outputs": [
    {
     "data": {
      "text/plain": [
       "[<matplotlib.lines.Line2D at 0x183247b02e0>]"
      ]
     },
     "execution_count": 105,
     "metadata": {},
     "output_type": "execute_result"
    },
    {
     "data": {
      "image/png": "[encoded data removed]",
      "text/plain": [
       "<Figure size 1440x720 with 1 Axes>"
      ]
     },
     "metadata": {
      "needs_background": "light"
     },
     "output_type": "display_data"
    }
   ],
   "source": [
    "plt.plot(test)"
   ]
  },
  {
   "cell_type": "code",
   "execution_count": 106,
   "id": "seventh-exhaust",
   "metadata": {},
   "outputs": [
    {
     "name": "stderr",
     "output_type": "stream",
     "text": [
      "c:\\users\\fahre_000\\appdata\\local\\programs\\python\\python39\\lib\\site-packages\\neurokit2\\hrv\\hrv_nonlinear.py:474: NeuroKitWarning: DFA_alpha2 related indices will not be calculated. The maximum duration of the windows provided for the long-term correlation is smaller than the minimum duration of windows. Refer to the `scale` argument in `nk.fractal_dfa()` for more information.\n",
      "  warn(\n"
     ]
    },
    {
     "data": {
      "text/html": [
       "<div>\n",
       "<style scoped>\n",
       "    .dataframe tbody tr th:only-of-type {\n",
       "        vertical-align: middle;\n",
       "    }\n",
       "\n",
       "    .dataframe tbody tr th {\n",
       "        vertical-align: top;\n",
       "    }\n",
       "\n",
       "    .dataframe thead th {\n",
       "        text-align: right;\n",
       "    }\n",
       "</style>\n",
       "<table border=\"1\" class=\"dataframe\">\n",
       "  <thead>\n",
       "    <tr style=\"text-align: right;\">\n",
       "      <th></th>\n",
       "      <th>PPG_Rate_Mean</th>\n",
       "      <th>HRV_MeanNN</th>\n",
       "      <th>HRV_SDNN</th>\n",
       "      <th>HRV_SDANN1</th>\n",
       "      <th>HRV_SDNNI1</th>\n",
       "      <th>HRV_SDANN2</th>\n",
       "      <th>HRV_SDNNI2</th>\n",
       "      <th>HRV_SDANN5</th>\n",
       "      <th>HRV_SDNNI5</th>\n",
       "      <th>HRV_RMSSD</th>\n",
       "      <th>...</th>\n",
       "      <th>HRV_SampEn</th>\n",
       "      <th>HRV_ShanEn</th>\n",
       "      <th>HRV_FuzzyEn</th>\n",
       "      <th>HRV_MSEn</th>\n",
       "      <th>HRV_CMSEn</th>\n",
       "      <th>HRV_RCMSEn</th>\n",
       "      <th>HRV_CD</th>\n",
       "      <th>HRV_HFD</th>\n",
       "      <th>HRV_KFD</th>\n",
       "      <th>HRV_LZC</th>\n",
       "    </tr>\n",
       "  </thead>\n",
       "  <tbody>\n",
       "    <tr>\n",
       "      <th>0</th>\n",
       "      <td>64.416475</td>\n",
       "      <td>931.625</td>\n",
       "      <td>42.706654</td>\n",
       "      <td>NaN</td>\n",
       "      <td>NaN</td>\n",
       "      <td>NaN</td>\n",
       "      <td>NaN</td>\n",
       "      <td>NaN</td>\n",
       "      <td>NaN</td>\n",
       "      <td>44.873225</td>\n",
       "      <td>...</td>\n",
       "      <td>1.616082</td>\n",
       "      <td>5.072202</td>\n",
       "      <td>1.523205</td>\n",
       "      <td>1.333617</td>\n",
       "      <td>1.36874</td>\n",
       "      <td>1.769995</td>\n",
       "      <td>1.895984</td>\n",
       "      <td>1.91159</td>\n",
       "      <td>4.476419</td>\n",
       "      <td>1.039062</td>\n",
       "    </tr>\n",
       "  </tbody>\n",
       "</table>\n",
       "<p>1 rows × 81 columns</p>\n",
       "</div>"
      ],
      "text/plain": [
       "   PPG_Rate_Mean  HRV_MeanNN   HRV_SDNN  HRV_SDANN1  HRV_SDNNI1  HRV_SDANN2  \\\n",
       "0      64.416475     931.625  42.706654         NaN         NaN         NaN   \n",
       "\n",
       "   HRV_SDNNI2  HRV_SDANN5  HRV_SDNNI5  HRV_RMSSD  ...  HRV_SampEn  HRV_ShanEn  \\\n",
       "0         NaN         NaN         NaN  44.873225  ...    1.616082    5.072202   \n",
       "\n",
       "   HRV_FuzzyEn  HRV_MSEn  HRV_CMSEn  HRV_RCMSEn    HRV_CD  HRV_HFD   HRV_KFD  \\\n",
       "0     1.523205  1.333617    1.36874    1.769995  1.895984  1.91159  4.476419   \n",
       "\n",
       "    HRV_LZC  \n",
       "0  1.039062  \n",
       "\n",
       "[1 rows x 81 columns]"
      ]
     },
     "execution_count": 106,
     "metadata": {},
     "output_type": "execute_result"
    }
   ],
   "source": [
    "analyze_df = nk.ppg_analyze(signals, sampling_rate=250)\n",
    "analyze_df"
   ]
  },
  {
   "cell_type": "code",
   "execution_count": 101,
   "id": "daily-ideal",
   "metadata": {},
   "outputs": [
    {
     "name": "stdout",
     "output_type": "stream",
     "text": [
      "244\n",
      "245\n",
      "266\n"
     ]
    }
   ],
   "source": [
    "for i in range(len(info['PPG_Peaks'])):\n",
    "    if i == len(info['PPG_Peaks'])-1:\n",
    "        break\n",
    "    else:\n",
    "        print(info['PPG_Peaks'][i+1] - info['PPG_Peaks'][i])"
   ]
  },
  {
   "cell_type": "code",
   "execution_count": 97,
   "id": "flying-stream",
   "metadata": {},
   "outputs": [],
   "source": [
    "frequency = []\n",
    "k = 0\n",
    "for i in range(len(signals)):\n",
    "    if signals['PPG_Peaks'][i] == 1:\n",
    "        frequency.append(k)\n",
    "        k = 0\n",
    "    else:\n",
    "        k+=1\n",
    "        "
   ]
  },
  {
   "cell_type": "code",
   "execution_count": 98,
   "id": "weekly-latex",
   "metadata": {},
   "outputs": [
    {
     "data": {
      "text/plain": [
       "[230, 243, 244, 265]"
      ]
     },
     "execution_count": 98,
     "metadata": {},
     "output_type": "execute_result"
    }
   ],
   "source": [
    "frequency"
   ]
  },
  {
   "cell_type": "code",
   "execution_count": null,
   "id": "brazilian-interim",
   "metadata": {},
   "outputs": [],
   "source": [
    "def ppg_frequency(ppg):\n",
    "    ecg_cleaned = nk.ecg_clean(ecg, sampling_rate=250)\n",
    "    rpeaks, info = nk.ecg_peaks(ecg_cleaned, sampling_rate=250, correct_artifacts=True)\n",
    "    time_diff = []\n",
    "    for i in range(len(info['ECG_R_Peaks'])):\n",
    "        if i == len(info['ECG_R_Peaks'])-1:\n",
    "            break\n",
    "        else:\n",
    "            time_diff.append(info['ECG_R_Peaks'][i+1] - info['ECG_R_Peaks'][i])"
   ]
  },
  {
   "cell_type": "code",
   "execution_count": 13,
   "id": "facial-board",
   "metadata": {},
   "outputs": [],
   "source": [
    "ecg = tmp[\"ECG\"][0]\n",
    "ecg_cleaned = nk.ecg_clean(ecg, sampling_rate=250)\n",
    "signals, info = nk.ecg_process(ecg_cleaned, sampling_rate=250, method = 'neurokit')\n",
    "hrv_features = nk.hrv_time(signals['ECG_R_Peaks'])\n",
    "mean_baseline = hrv_features['HRV_MeanNN'][0]\n",
    "std_baseline = hrv_features['HRV_SDNN'][0]"
   ]
  },
  {
   "cell_type": "code",
   "execution_count": null,
   "id": "material-restriction",
   "metadata": {},
   "outputs": [],
   "source": [
    "nk.ecg_intervalrelated(epochs)"
   ]
  },
  {
   "cell_type": "code",
   "execution_count": 14,
   "id": "british-bridge",
   "metadata": {},
   "outputs": [
    {
     "name": "stdout",
     "output_type": "stream",
     "text": [
      "175.12280701754386\n",
      "9.853163437260251\n"
     ]
    }
   ],
   "source": [
    "print(mean_baseline)\n",
    "print(std_baseline)"
   ]
  },
  {
   "cell_type": "code",
   "execution_count": 24,
   "id": "expected-article",
   "metadata": {},
   "outputs": [],
   "source": [
    "ecg1 = tmp[\"ECG\"][1]\n",
    "ecg_cleaned1 = nk.ecg_clean(ecg1, sampling_rate=250)\n",
    "rr_intervals, info = rr_interval(ecg_cleaned1[1250:2500])"
   ]
  },
  {
   "cell_type": "code",
   "execution_count": 25,
   "id": "capital-coverage",
   "metadata": {},
   "outputs": [
    {
     "data": {
      "text/plain": [
       "{'ECG_R_Peaks': array([ 103,  255,  412,  570,  725,  880, 1030, 1170]),\n",
       " 'sampling_rate': 250}"
      ]
     },
     "execution_count": 25,
     "metadata": {},
     "output_type": "execute_result"
    }
   ],
   "source": [
    "info"
   ]
  },
  {
   "cell_type": "code",
   "execution_count": 26,
   "id": "broke-outside",
   "metadata": {},
   "outputs": [
    {
     "data": {
      "text/plain": [
       "[152, 157, 158, 155, 155, 150, 140]"
      ]
     },
     "execution_count": 26,
     "metadata": {},
     "output_type": "execute_result"
    }
   ],
   "source": [
    "rr_intervals"
   ]
  },
  {
   "cell_type": "code",
   "execution_count": 27,
   "id": "backed-logistics",
   "metadata": {},
   "outputs": [
    {
     "name": "stdout",
     "output_type": "stream",
     "text": [
      "140.0982456140351\n",
      "210.14736842105262\n"
     ]
    }
   ],
   "source": [
    "threshold_down = mean_baseline * 0.8\n",
    "print(threshold_down)\n",
    "threshold_up = mean_baseline * 1.2\n",
    "print(threshold_up)"
   ]
  },
  {
   "cell_type": "code",
   "execution_count": 28,
   "id": "reported-bloom",
   "metadata": {},
   "outputs": [
    {
     "data": {
      "text/plain": [
       "<matplotlib.lines.Line2D at 0x182fd4bb670>"
      ]
     },
     "execution_count": 28,
     "metadata": {},
     "output_type": "execute_result"
    },
    {
     "data": {
      "image/png": "[encoded data removed]",
      "text/plain": [
       "<Figure size 1440x720 with 1 Axes>"
      ]
     },
     "metadata": {
      "needs_background": "light"
     },
     "output_type": "display_data"
    }
   ],
   "source": [
    "plt.plot(rr_intervals)\n",
    "plt.axhline(y=threshold_down, color='r')\n",
    "plt.axhline(y=threshold_up, color='r')"
   ]
  },
  {
   "cell_type": "code",
   "execution_count": 29,
   "id": "fresh-margin",
   "metadata": {},
   "outputs": [
    {
     "name": "stdout",
     "output_type": "stream",
     "text": [
      "Nothing\n",
      "Nothing\n",
      "Nothing\n",
      "Nothing\n",
      "Nothing\n",
      "Nothing\n",
      "HRV decrease detected in 6 RR interval\n"
     ]
    }
   ],
   "source": [
    "for i in range(len(rr_intervals)):\n",
    "    if rr_intervals[i] < threshold_down:\n",
    "        print('HRV decrease detected in {} RR interval'.format(i))\n",
    "    elif rr_intervals[i] > threshold_up:\n",
    "        print('HRV increase detected in {} RR interval'.format(i))\n",
    "    else:\n",
    "        print('Nothing')"
   ]
  },
  {
   "cell_type": "code",
   "execution_count": 32,
   "id": "pleasant-payday",
   "metadata": {},
   "outputs": [
    {
     "data": {
      "text/plain": [
       "1030"
      ]
     },
     "execution_count": 32,
     "metadata": {},
     "output_type": "execute_result"
    }
   ],
   "source": [
    "info['ECG_R_Peaks'][6]"
   ]
  },
  {
   "cell_type": "code",
   "execution_count": null,
   "id": "modular-gabriel",
   "metadata": {},
   "outputs": [],
   "source": []
  }
 ],
 "metadata": {
  "kernelspec": {
   "display_name": "Python 3",
   "language": "python",
   "name": "python3"
  },
  "language_info": {
   "codemirror_mode": {
    "name": "ipython",
    "version": 3
   },
   "file_extension": ".py",
   "mimetype": "text/x-python",
   "name": "python",
   "nbconvert_exporter": "python",
   "pygments_lexer": "ipython3",
   "version": "3.9.2"
  }
 },
 "nbformat": 4,
 "nbformat_minor": 5
}
